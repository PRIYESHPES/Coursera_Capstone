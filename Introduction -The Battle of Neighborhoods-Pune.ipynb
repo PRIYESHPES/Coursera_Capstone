{
 "cells": [
  {
   "cell_type": "markdown",
   "metadata": {},
   "source": [
    "# Capstone Project: The Battle of the Neighborhoods\n",
    "### Applied Data Science Capstone by IBM/Coursera"
   ]
  },
  {
   "cell_type": "markdown",
   "metadata": {},
   "source": [
    "## Table of contents\n",
    "* [Introduction: Business Problem](#introduction)"
   ]
  },
  {
   "cell_type": "markdown",
   "metadata": {},
   "source": [
    "## Introduction: Business Problem <a name=\"introduction\"></a>"
   ]
  },
  {
   "cell_type": "markdown",
   "metadata": {},
   "source": [
    "In this project we will try to find out an optimal livable location in a city.\n",
    "By livable location here it means the number of facilities, nearby venues provided in the vicinity of a location. \n",
    "This report specifically targets stakeholders who are interested in finding a livable location in **Pune city, India**.\n",
    "\n",
    "Also, the stakeholder would choose a particular location which is closest to its workplace. Hence, we would categorize various locations in the city on the basis of their distance between **the most prominent workplaces/ industrial zones in the city** and **nearby venues to those locations**\n",
    "\n",
    "We would cluster all the important/livable and recommended regions where someone can live which have the most number of amenities/venues in the locality. User/Stakeholder can choose according the location nearest to his/her office/campus. \n",
    "\n",
    "For example: - Hinjewadi and Magarpatta are two IT company zones which are situated in opposite direction to each other, If someone lives in a location near to Hinjewadi and his/her company moves to Magarpatta, which location should be suggest having the similar facilities/ venues as his current living location. \n",
    "\n",
    "We would identify areas with most promising characteristics and their advantages will then be clearly expressed, so that best possible final location may be chosen by our stakeholders."
   ]
  }
 ],
 "metadata": {
  "kernelspec": {
   "display_name": "Python 3",
   "language": "python",
   "name": "python3"
  },
  "language_info": {
   "codemirror_mode": {
    "name": "ipython",
    "version": 3
   },
   "file_extension": ".py",
   "mimetype": "text/x-python",
   "name": "python",
   "nbconvert_exporter": "python",
   "pygments_lexer": "ipython3",
   "version": "3.7.1"
  }
 },
 "nbformat": 4,
 "nbformat_minor": 2
}
